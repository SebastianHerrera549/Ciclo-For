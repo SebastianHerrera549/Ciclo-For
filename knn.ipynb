{
  "nbformat": 4,
  "nbformat_minor": 0,
  "metadata": {
    "colab": {
      "name": "knn.ipynb",
      "provenance": [],
      "collapsed_sections": [],
      "authorship_tag": "ABX9TyOIh3hY8r6gOvAtw1Mhc8cw",
      "include_colab_link": true
    },
    "kernelspec": {
      "name": "python3",
      "display_name": "Python 3"
    },
    "language_info": {
      "name": "python"
    }
  },
  "cells": [
    {
      "cell_type": "markdown",
      "metadata": {
        "id": "view-in-github",
        "colab_type": "text"
      },
      "source": [
        "<a href=\"https://colab.research.google.com/github/SebastianHerrera549/Ciclo-For/blob/main/knn.ipynb\" target=\"_parent\"><img src=\"https://colab.research.google.com/assets/colab-badge.svg\" alt=\"Open In Colab\"/></a>"
      ]
    },
    {
      "cell_type": "markdown",
      "metadata": {
        "id": "fODNmJ8GeKsi"
      },
      "source": [
        "Primero hacemos imports de librerías que utilizaremos para manejo de datos, gráficas y nuestro algoritmo."
      ]
    },
    {
      "cell_type": "code",
      "metadata": {
        "id": "YxF7-VsudyuD"
      },
      "source": [
        "import pandas as pd\n",
        "import numpy as np\n",
        "import matplotlib.pyplot as plt\n",
        "from matplotlib.colors import ListedColormap\n",
        "import matplotlib.patches as mpatches\n",
        "import seaborn as sb\n",
        "\n",
        "%matplotlib inline\n",
        "plt.rcParams['figure.figsize'] = (16, 9)\n",
        "plt.style.use('ggplot')\n",
        "\n",
        "from sklearn.model_selection import train_test_split\n",
        "from sklearn.preprocessing import MinMaxScaler\n",
        "from sklearn.neighbors import KNeighborsClassifier\n",
        "from sklearn.metrics import classification_report\n",
        "from sklearn.metrics import confusion_matrix"
      ],
      "execution_count": null,
      "outputs": []
    },
    {
      "cell_type": "code",
      "metadata": {
        "id": "6SF911vpfJKz"
      },
      "source": [
        "from google.colab import drive\n",
        "drive.mount('/content/drive')"
      ],
      "execution_count": null,
      "outputs": []
    },
    {
      "cell_type": "code",
      "metadata": {
        "id": "8cu9WxUufVp3"
      },
      "source": [
        "PATH = '/content/drive/My Drive/Univercidad/2021-1/Sistemas Expertos/'"
      ],
      "execution_count": null,
      "outputs": []
    },
    {
      "cell_type": "markdown",
      "metadata": {
        "id": "lbPBJIXleUas"
      },
      "source": [
        "Cargamos el archivo entrada csv con pandas, usando separador de punto y coma, pues en las reviews hay textos que usan coma. Con head(10) vemos los 10 primeros registros."
      ]
    },
    {
      "cell_type": "code",
      "metadata": {
        "id": "pscbSQr1eROx"
      },
      "source": [
        "datasetPath = PATH + 'winequality.csv'\n",
        "wine = pd.read_csv(datasetPath) "
      ],
      "execution_count": null,
      "outputs": []
    },
    {
      "cell_type": "code",
      "metadata": {
        "id": "ddc8MLAWgOM_"
      },
      "source": [
        "wine.head(10)"
      ],
      "execution_count": null,
      "outputs": []
    },
    {
      "cell_type": "code",
      "metadata": {
        "id": "dGKUAH-ggG9_"
      },
      "source": [
        "print(wine.groupby('quality').size())"
      ],
      "execution_count": null,
      "outputs": []
    },
    {
      "cell_type": "markdown",
      "metadata": {
        "id": "5zzIMubUhV9t"
      },
      "source": [
        "Preparamos las entradas\n",
        "Creamos nuestro X e y de entrada y los sets de entrenamiento y test."
      ]
    },
    {
      "cell_type": "code",
      "metadata": {
        "id": "YcLqv78fhUZX"
      },
      "source": [
        "X = wine[['fixed acidity','volatile acidity', 'citric acid', 'residual sugar', 'chlorides', 'free sulfur dioxide', 'total sulfur dioxide','density', 'pH', 'sulphates', 'alcohol' ]].values\n",
        "y = wine['quality'].values\n",
        "\n",
        "X_train, X_test, y_train, y_test = train_test_split(X, y, random_state=0)\n",
        "scaler = MinMaxScaler()\n",
        "X_train = scaler.fit_transform(X_train)\n",
        "X_test = scaler.transform(X_test)"
      ],
      "execution_count": null,
      "outputs": []
    },
    {
      "cell_type": "markdown",
      "metadata": {
        "id": "syDix0zEinhW"
      },
      "source": [
        "Usemos k-Nearest Neighbor con Scikit Learn\n",
        "Definimos el valor de k en 2 (esto realmente lo sabemos más adelante, ya veréis) y creamos nuestro clasificador."
      ]
    },
    {
      "cell_type": "code",
      "metadata": {
        "colab": {
          "base_uri": "https://localhost:8080/"
        },
        "id": "CDfNhriDio7C",
        "outputId": "332c7232-c341-408c-b66f-8ae55b13dcd7"
      },
      "source": [
        "n_neighbors = 2\n",
        "\n",
        "knn = KNeighborsClassifier(n_neighbors)\n",
        "knn.fit(X_train, y_train)\n",
        "print('Precisión del clasificador K-NN en el conjunto de entrenamiento: {:.2f}'\n",
        "     .format(knn.score(X_train, y_train)))\n",
        "print('Precisión del clasificador K-NN en el equipo de prueba: {:.2f}'\n",
        "     .format(knn.score(X_test, y_test)))"
      ],
      "execution_count": null,
      "outputs": [
        {
          "output_type": "stream",
          "text": [
            "Precisión del clasificador K-NN en el conjunto de entrenamiento: 0.80\n",
            "Precisión del clasificador K-NN en el equipo de prueba: 0.59\n"
          ],
          "name": "stdout"
        }
      ]
    },
    {
      "cell_type": "markdown",
      "metadata": {
        "id": "D3snkE3AjMdx"
      },
      "source": [
        "Precisión del modelo\n",
        "Confirmemos la precisión viendo la Confusión Matrix y el Reporte sobre el conjunto de test, que nos detalla los aciertos y fallos"
      ]
    },
    {
      "cell_type": "code",
      "metadata": {
        "colab": {
          "base_uri": "https://localhost:8080/",
          "height": 656
        },
        "id": "xmwuk8FSlEzH",
        "outputId": "f08a8f1f-118f-4477-fa6c-962f9e8b7f07"
      },
      "source": [
        "k_range = range(1, 20)\n",
        "scores = []\n",
        "for k in k_range:\n",
        "    knn = KNeighborsClassifier(n_neighbors = k)\n",
        "    knn.fit(X_train, y_train)\n",
        "    scores.append(knn.score(X_test, y_test))\n",
        "plt.figure()\n",
        "plt.xlabel('k')\n",
        "plt.ylabel('Precisión')\n",
        "plt.scatter(k_range, scores)\n",
        "plt.xticks([0,1,2,3,4,5,6,7,8,9,10,11,12,13,14,15,16,17,18,19,20]) #,6,7,8,9,10,11,12,13,14,15,16,17,18,19,20"
      ],
      "execution_count": null,
      "outputs": [
        {
          "output_type": "execute_result",
          "data": {
            "text/plain": [
              "([<matplotlib.axis.XTick at 0x7f73d53aa5d0>,\n",
              "  <matplotlib.axis.XTick at 0x7f73d53aaf50>,\n",
              "  <matplotlib.axis.XTick at 0x7f73d53aaa90>,\n",
              "  <matplotlib.axis.XTick at 0x7f73d52d9cd0>,\n",
              "  <matplotlib.axis.XTick at 0x7f73d52e1310>,\n",
              "  <matplotlib.axis.XTick at 0x7f73d52e17d0>,\n",
              "  <matplotlib.axis.XTick at 0x7f73d52e1d50>,\n",
              "  <matplotlib.axis.XTick at 0x7f73d52e7350>,\n",
              "  <matplotlib.axis.XTick at 0x7f73d52e7810>,\n",
              "  <matplotlib.axis.XTick at 0x7f73d52e7d50>,\n",
              "  <matplotlib.axis.XTick at 0x7f73d52e7310>,\n",
              "  <matplotlib.axis.XTick at 0x7f73d52e13d0>,\n",
              "  <matplotlib.axis.XTick at 0x7f73d52ef250>,\n",
              "  <matplotlib.axis.XTick at 0x7f73d52ef750>,\n",
              "  <matplotlib.axis.XTick at 0x7f73d52efc90>,\n",
              "  <matplotlib.axis.XTick at 0x7f73d52fa290>,\n",
              "  <matplotlib.axis.XTick at 0x7f73d52fa750>,\n",
              "  <matplotlib.axis.XTick at 0x7f73d52fac90>,\n",
              "  <matplotlib.axis.XTick at 0x7f73d5300290>,\n",
              "  <matplotlib.axis.XTick at 0x7f73d52fa690>,\n",
              "  <matplotlib.axis.XTick at 0x7f73d52ef490>],\n",
              " <a list of 21 Text major ticklabel objects>)"
            ]
          },
          "metadata": {
            "tags": []
          },
          "execution_count": 119
        },
        {
          "output_type": "display_data",
          "data": {
            "image/png": "[encoded data removed]",
            "text/plain": [
              "<Figure size 432x288 with 1 Axes>"
            ]
          },
          "metadata": {
            "tags": [],
            "needs_background": "light"
          }
        }
      ]
    },
    {
      "cell_type": "code",
      "metadata": {
        "id": "JcLw03EBkGmC"
      },
      "source": [
        "model =clf.predict([[7.4,\t0.70,\t0.00,\t1.9,\t0.076,\t11.0,\t34.0,\t0.9978,\t3.51,\t0.56,\t9.4\t]])\n",
        "print(model)"
      ],
      "execution_count": null,
      "outputs": []
    },
    {
      "cell_type": "code",
      "metadata": {
        "colab": {
          "base_uri": "https://localhost:8080/"
        },
        "id": "96uw6QsD4UZ3",
        "outputId": "078f3218-da9b-4e1b-df02-fb4a6390ccb0"
      },
      "source": [
        "pred = knn.predict(X_test)\n",
        "print(classification_report(y_test, pred))"
      ],
      "execution_count": null,
      "outputs": [
        {
          "output_type": "stream",
          "text": [
            "              precision    recall  f1-score   support\n",
            "\n",
            "           3       0.00      0.00      0.00         2\n",
            "           4       0.00      0.00      0.00        14\n",
            "           5       0.61      0.66      0.63       169\n",
            "           6       0.55      0.59      0.57       170\n",
            "           7       0.37      0.33      0.35        40\n",
            "           8       0.00      0.00      0.00         5\n",
            "\n",
            "    accuracy                           0.56       400\n",
            "   macro avg       0.26      0.26      0.26       400\n",
            "weighted avg       0.53      0.56      0.54       400\n",
            "\n"
          ],
          "name": "stdout"
        },
        {
          "output_type": "stream",
          "text": [
            "/usr/local/lib/python3.7/dist-packages/sklearn/metrics/_classification.py:1272: UndefinedMetricWarning: Precision and F-score are ill-defined and being set to 0.0 in labels with no predicted samples. Use `zero_division` parameter to control this behavior.\n",
            "  _warn_prf(average, modifier, msg_start, len(result))\n"
          ],
          "name": "stderr"
        }
      ]
    }
  ]
}